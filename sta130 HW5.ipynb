{
 "cells": [
  {
   "cell_type": "code",
   "execution_count": null,
   "id": "5439883d",
   "metadata": {},
   "outputs": [],
   "source": [
    "#Q2:\n",
    "#We are testing for the population mean mu, whether it may equal to mu0 or not.\n",
    "#It is not possible for us to know the population mean, hence we are checking this using the \n",
    "#sample statistic. In this case, the sample statistic is the sample mean: Xbar. If the sample mean\n",
    "#is too far from mu0, it gives us more confidence that the population mean mu probably is not equal to mu0.\n",
    "#Hence, using the sample mean, we are able to get a conclusion about the population mean. Although, this\n",
    "#conclusion may not be correct 100% of the time, it at least gives us a conclusion that we are able to use."
   ]
  },
  {
   "cell_type": "code",
   "execution_count": null,
   "id": "c89b7e21",
   "metadata": {},
   "outputs": [],
   "source": [
    "#Q4:\n",
    "#The p-value is the probability of type 1 error, which is the probability that\n",
    "#we have wrongfully accused an innocent person (i.e. a correct statement).\n",
    "#A low p-value means that this probability is low, hence we are more confidence that we have not\n",
    "#wrongfully accused an innocent person. Hence, with 1-p probability, the person is guilty: \n",
    "#i.e. the statement is false. The smaller the p value, the larger 1-p is, hence the more likely\n",
    "#the statement (null hypothesis) is false."
   ]
  },
  {
   "cell_type": "code",
   "execution_count": null,
   "id": "c283f496",
   "metadata": {},
   "outputs": [],
   "source": [
    "#Q8:\n",
    "#Let mu be the proportion that correctly identifies tea before milk and vice versa.\n",
    "#Null hypothesis H0: mu0 = 1/2. i.e. Being correct is a 50/50 guess.\n",
    "#Alternative hypothesis H1: mu1 \\neq 1/2. i.e. Somehow, some people can actually tell tea before milk and vice versa.\n",
    "#The test statistic is Xbar, which is 48/80 in this case.\n",
    "#If H0 is correct, Xbar has Normal distribution with mean mu0, and variance sigma^2 = pq/n.\n",
    "#Then Z = (Xbar - mu0) / sigma is Normal(0, 1)\n",
    "#In this case, Z = 1.789.\n",
    "#This value is not large enough, as Z further than \\pm 2 is a typical value that we want to see, to reject\n",
    "#the null hypothesis. Hence, we can not reject the null hypothesis, so it seems that this sample mean\n",
    "#does not contradict the null hypothesis that people are just 50/50 guess."
   ]
  }
 ],
 "metadata": {
  "kernelspec": {
   "display_name": "Python 3 (ipykernel)",
   "language": "python",
   "name": "python3"
  },
  "language_info": {
   "codemirror_mode": {
    "name": "ipython",
    "version": 3
   },
   "file_extension": ".py",
   "mimetype": "text/x-python",
   "name": "python",
   "nbconvert_exporter": "python",
   "pygments_lexer": "ipython3",
   "version": "3.11.6"
  }
 },
 "nbformat": 4,
 "nbformat_minor": 5
}
